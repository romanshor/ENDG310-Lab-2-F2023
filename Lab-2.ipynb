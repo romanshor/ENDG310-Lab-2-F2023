{
 "cells": [
  {
   "cell_type": "code",
   "execution_count": null,
   "metadata": {},
   "outputs": [],
   "source": []
  },
  {
   "cell_type": "markdown",
   "metadata": {},
   "source": [
    "## ENDG 310 Fall 2023\n",
    "## Lab 2\n",
    "### Reading and Displaying Data\n",
    "\n",
    "In this lab, you will analyze global $CO_2$ data and Canadian forest fire data utilizing datasets from the Government of Canada and from the U.S. National Oceanic and Atmospheric Administration.  \n",
    "\n",
    "### Objectives\n",
    "After completing this lab, you should be able to:\n",
    "- Checkout, commit, and sync a github repository.  \n",
    "- Load and plot data from csv and xls files.\n",
    "- Manipulate data and find statistics.\n",
    "- Create an visual infographic that summarizes your interpretation of the data.\n",
    "\n",
    "### Lab submission\n",
    "This lab is due at 5:00 PM on Friday, September 29th via github.  Be sure to **commit** and **push** your final code.  You submit the following:\n",
    "- all code you used, either as `ipynb` or `py` files.\n",
    "- a README.md file, properly formatted with headings and explainations, which summarizes the lab and your results and must include your final infographic.\n",
    "\n",
    "\n",
    "You may create a new `ipynb` file or use this one."
   ]
  },
  {
   "cell_type": "markdown",
   "metadata": {},
   "source": [
    "## Step 1: Data\n",
    "Global $CO_2$ data may be obtained from the **Global Monitoring Laboratory** at the **Mauna Loa Observatory** in the Hawaiian Islands by visiting this __[link](https://gml.noaa.gov/ccgg/trends/data.html)__.  You may use the daily or monthly data.\n",
    "\n",
    "There are multiple sources available for wildfire data in Canada.  The simplest data source is the summary statistics from Natural Resources Canada, found __[here](https://cwfis.cfs.nrcan.gc.ca/datamart/download/nfdbpnt)__.  Data from 2022 and estimated data for 2023 will need to be appended manually as the data only goes through 2021.  A visual of all burned area for the past 100 years can be seen __[here](https://canadiangeographic.ca/articles/mapping-100-years-of-forest-fires-in-canada/)__.\n",
    "\n",
    "**IMPORTANT**: create a `data` folder and place the data files there.  Add the `data` folder to your `.gitignore` file as those files should **not** be included as part of your repository.  Include a discussion of your source of data and where you expect a user to place the data files when downloaded if they checkout your repository.\n",
    "\n",
    "Once you have downloaded the data, load the data using `numpy` or `pandas`.  Ask ChatGPT to suggest code.  You may need to reformat the data files."
   ]
  },
  {
   "cell_type": "markdown",
   "metadata": {},
   "source": [
    "## Step 2: Plot the data\n",
    "Recreate the following plots using `Matplotlib`.  You may use `Plotly` or other tools, however, start simple.\n",
    "\n",
    "### Historical fire data\n",
    "<img src=\"./images/nrcan_historical_fires.png\" alt=\"NRCan summary of annual wild fires\" title=\"Annual burned area in Canada\"/>\n",
    "\n",
    "Note: you should include 2022 and 2023 data in your plot.  You may add these data points to the data file directly.\n",
    "\n",
    "### Atmospheric $CO_2$ data\n",
    "<img src=\"./images/co2_trend_mlo.png\" alt=\"Historic atmospheric CO2 data\" title=\"Atmospheric CO2 data from Mauna Loa Observatory\" />\n",
    "\n",
    "Note: you should include data through the end of June 2023."
   ]
  },
  {
   "cell_type": "code",
   "execution_count": null,
   "metadata": {},
   "outputs": [],
   "source": [
    "\"\"\"\n",
    "Code should be well formatted and well commented\n",
    "\"\"\""
   ]
  },
  {
   "cell_type": "markdown",
   "metadata": {},
   "source": [
    "## Part 3: Analyze the data\n",
    "Create summary statistics based on the data, and determine if there are any relationships in the data.  These can include:\n",
    "- Compute and plot the annual increase in $CO_2$ in each year.\n",
    "- Compute and plot the annual increase in $CO_2$ each summer and decrease in $CO_2$ each winter.\n",
    "- Compare the annual increase in $CO_2$ with annual wildfire burn area.\n",
    "- etc.\n",
    "\n",
    "You must show at least three different computed values or cross plots, one of which must be different from those suggested above."
   ]
  },
  {
   "cell_type": "code",
   "execution_count": null,
   "metadata": {},
   "outputs": [],
   "source": [
    "\"\"\"\n",
    "Your code here\n",
    "\"\"\""
   ]
  },
  {
   "cell_type": "markdown",
   "metadata": {},
   "source": [
    "## Part 4: Create an infographic\n",
    "Combine several relevant plots into a single figure to create an infographic.  For more information about infographics and some examples, click __[here](https://infogram.com/page/infographic)__.  You may add some text, and you are encouraged to use different types of plots, for examples, see __[here](https://matplotlib.org/stable/gallery/index.html)__.\n",
    "\n",
    "Save your final figure as a `jpg` or `png` file, and make sure it is included (and displayed) in the `README`."
   ]
  },
  {
   "cell_type": "markdown",
   "metadata": {},
   "source": []
  }
 ],
 "metadata": {
  "language_info": {
   "name": "python"
  },
  "orig_nbformat": 4
 },
 "nbformat": 4,
 "nbformat_minor": 2
}
